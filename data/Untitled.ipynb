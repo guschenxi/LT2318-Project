{
 "cells": [
  {
   "cell_type": "code",
   "execution_count": null,
   "metadata": {},
   "outputs": [
    {
     "name": "stderr",
     "output_type": "stream",
     "text": [
      "IOPub data rate exceeded.\n",
      "The notebook server will temporarily stop sending output\n",
      "to the client in order to avoid crashing it.\n",
      "To change this limit, set the config variable\n",
      "`--NotebookApp.iopub_data_rate_limit`.\n",
      "\n",
      "Current values:\n",
      "NotebookApp.iopub_data_rate_limit=1000000.0 (bytes/sec)\n",
      "NotebookApp.rate_limit_window=3.0 (secs)\n",
      "\n"
     ]
    }
   ],
   "source": [
    "import json\n",
    "from collections import Counter\n",
    "with open(\"flickr8kzh.json\", 'r') as j:\n",
    "    data = json.load(j)\n",
    "max_len=100\n",
    "# Read image paths and captions for each image\n",
    "train_image_paths = []\n",
    "train_image_captions = []\n",
    "val_image_paths = []\n",
    "val_image_captions = []\n",
    "test_image_paths = []\n",
    "test_image_captions = []\n",
    "word_freq = Counter()\n",
    "\n",
    "for img in data['images']:\n",
    "    captions = []\n",
    "    for c in img['sentences']:\n",
    "        # Update word frequency\n",
    "        print(c['tokens'])\n",
    "        word_freq.update(c['tokens'].split(' '))\n",
    "        print(word_freq)\n",
    "        if len(c['tokens']) <= max_len:\n",
    "            captions.append(c['tokens'])"
   ]
  },
  {
   "cell_type": "code",
   "execution_count": 6,
   "metadata": {},
   "outputs": [
    {
     "name": "stdout",
     "output_type": "stream",
     "text": [
      "Counter({'我': 1, '是': 1, '一个': 1, '小': 1, '姑娘': 1})\n",
      "['我', '是', '一个', '小', '姑娘']\n"
     ]
    }
   ],
   "source": [
    "from collections import Counter\n",
    "word_freq = Counter()\n",
    "text=\"我 是 一个 小 姑娘\"\n",
    "word_freq.update(text.split())\n",
    "print(word_freq)\n",
    "min_word_freq=0\n",
    "words = [w for w in word_freq.keys() if word_freq[w] > min_word_freq]\n",
    "print(words)"
   ]
  },
  {
   "cell_type": "code",
   "execution_count": null,
   "metadata": {},
   "outputs": [],
   "source": []
  }
 ],
 "metadata": {
  "kernelspec": {
   "display_name": "Python 3",
   "language": "python",
   "name": "python3"
  },
  "language_info": {
   "codemirror_mode": {
    "name": "ipython",
    "version": 3
   },
   "file_extension": ".py",
   "mimetype": "text/x-python",
   "name": "python",
   "nbconvert_exporter": "python",
   "pygments_lexer": "ipython3",
   "version": "3.7.4"
  }
 },
 "nbformat": 4,
 "nbformat_minor": 2
}
