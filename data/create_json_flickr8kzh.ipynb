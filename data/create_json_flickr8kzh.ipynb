{
 "cells": [
  {
   "cell_type": "code",
   "execution_count": 4,
   "metadata": {},
   "outputs": [
    {
     "name": "stdout",
     "output_type": "stream",
     "text": [
      "8012\n"
     ]
    }
   ],
   "source": [
    "# -*- coding:UTF-8 -*-\n",
    "import io\n",
    "import json \n",
    "\n",
    "train_name = 'flickr8kzhbJanbosontrain.txt'\n",
    "train_caption = 'seg.flickr8kzhbJanbosontrain.caption.txt'\n",
    "val_name = 'flickr8kzhbJanbosonval.txt'\n",
    "val_caption = 'seg.flickr8kzhbJanbosonval.caption.txt'\n",
    "test_name = 'flickr8kzhmbosontest.txt'\n",
    "test_caption = 'seg.flickr8kzhmbosontest.caption.txt'\n",
    "\n",
    "dict1 = {} \n",
    "images = []\n",
    "# creating dictionary \n",
    "with io.open(train_caption, 'r') as f: \n",
    "    content = f.readlines()\n",
    "    f.close()\n",
    "    old_filename = \"1000268201_693b08cb0e\"\n",
    "    sentences = []\n",
    "    for line in content: \n",
    "        #print(line[30:31])\n",
    "        if line.find(\"#\")==-1:continue\n",
    "        new_filename, _, caption = line.strip().split(\"#\",2)\n",
    "        #print(new_filename)\n",
    "        if new_filename != old_filename:\n",
    "            #print(\"filename\",old_filename, \"split\",\"train\", \"sentences\",sentences)\n",
    "            images.append({\"filename\":old_filename+\".jpg\", \"split\":\"train\", \"sentences\":sentences})\n",
    "            sentences = []\n",
    "        sentences.append({\"caption_id\":caption[0], \"tokens\":caption[2:]}) \n",
    "        #print(sentences)\n",
    "        old_filename = new_filename\n",
    "        if old_filename == \"2709648336_15455e60b2\":\n",
    "            images.append({\"filename\":old_filename+\".jpg\", \"split\":\"train\", \"sentences\":sentences})\n",
    "            \n",
    "            \n",
    "# creating dictionary \n",
    "with io.open(val_caption, 'r') as f: \n",
    "    content = f.readlines()\n",
    "    f.close()\n",
    "    old_filename = \"1022454332_6af2c1449a\"\n",
    "    sentences = []\n",
    "    for line in content: \n",
    "        #print(line[30:31])\n",
    "        if line.find(\"#\")==-1:continue\n",
    "        new_filename, _, caption = line.strip().split(\"#\",2)\n",
    "        #print(new_filename)\n",
    "        if new_filename != old_filename:\n",
    "            #print(\"filename\",old_filename, \"split\",\"train\", \"sentences\",sentences)\n",
    "            images.append({\"filename\":old_filename+\".jpg\", \"split\":\"val\", \"sentences\":sentences})\n",
    "            sentences = []\n",
    "        sentences.append({\"caption_id\":caption[0], \"tokens\":caption[2:]}) \n",
    "        old_filename = new_filename\n",
    "        if old_filename == \"989851184_9ef368e520\":\n",
    "            images.append({\"filename\":old_filename+\".jpg\", \"split\":\"val\", \"sentences\":sentences})\n",
    "            \n",
    "            \n",
    "# creating dictionary \n",
    "with io.open(test_caption, 'r') as f: \n",
    "    content = f.readlines()\n",
    "    f.close()\n",
    "    old_filename = \"1056338697_4f7d7ce270\"\n",
    "    sentences = []\n",
    "    for line in content: \n",
    "        #print(line[30:31])\n",
    "        if line.find(\"#\")==-1:continue\n",
    "        new_filename, _, caption = line.strip().split(\"#\",2)\n",
    "        #print(new_filename)\n",
    "        if new_filename != old_filename:\n",
    "            #print(\"filename\",old_filename, \"split\",\"train\", \"sentences\",sentences)\n",
    "            images.append({\"filename\":old_filename+\".jpg\", \"split\":\"test\", \"sentences\":sentences})\n",
    "            sentences = []\n",
    "        text=caption[2:].split()\n",
    "        text=[x.split(\":\")[0] for x in text]\n",
    "        sentences.append({\"caption_id\":caption[0], \"tokens\":str(\" \".join(text))}) \n",
    "        old_filename = new_filename\n",
    "        if old_filename == \"997722733_0cb5439472\":\n",
    "            images.append({\"filename\":old_filename+\".jpg\", \"split\":\"test\", \"sentences\":sentences})\n",
    "# creating json file \n",
    "# the JSON file is named as test1 \n",
    "print(len(images))\n",
    "dict1[\"images\"] = images\n",
    "out_file = open(\"flickr8kzh.json\", \"w\") \n",
    "json.dump(dict1, out_file, indent = 4, sort_keys = False) \n",
    "out_file.close() \n"
   ]
  },
  {
   "cell_type": "code",
   "execution_count": null,
   "metadata": {},
   "outputs": [],
   "source": []
  },
  {
   "cell_type": "code",
   "execution_count": null,
   "metadata": {},
   "outputs": [],
   "source": []
  }
 ],
 "metadata": {
  "kernelspec": {
   "display_name": "Python 3",
   "language": "python",
   "name": "python3"
  },
  "language_info": {
   "codemirror_mode": {
    "name": "ipython",
    "version": 3
   },
   "file_extension": ".py",
   "mimetype": "text/x-python",
   "name": "python",
   "nbconvert_exporter": "python",
   "pygments_lexer": "ipython3",
   "version": "3.7.4"
  }
 },
 "nbformat": 4,
 "nbformat_minor": 2
}
